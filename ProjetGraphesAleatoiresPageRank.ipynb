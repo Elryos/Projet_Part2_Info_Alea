{
 "cells": [
  {
   "cell_type": "markdown",
   "metadata": {},
   "source": [
    "# Projet à rendre: PageRank\n",
    "\n",
    "**Groupe: Prenom,Nom1 -- Prenom,Nom2**\n",
    "\n",
    "## Consignes \n",
    "Le projet est à rendre pour le vendredi 6 avril 2018 20h (par groupe de deux maximum), par mail à nicolas.gast@imag.fr. \n",
    "\n",
    "Merci de rendre:\n",
    "* votre notebook ipython \n",
    "* un export de votre notebook en html \n",
    "\n",
    "(crédit : ce sujet est inspiré de *https://myriamtami.github.io/data/enseignements/TP_PageRank_2018.pdf*)"
   ]
  },
  {
   "cell_type": "markdown",
   "metadata": {},
   "source": [
    "## Introduction \n",
    "\n",
    "Le but de ce TP est d’étudier l’algorithme d’ordonnancement PageRank qui est utilisé pour\n",
    "la recherche d’information sur le Web.\n",
    "\n",
    "On considère un graphe du web qui est un graphe orienté où chaque noeud du graphe représente un page web. Un lien existe entre la page A et la page B si la page A pointe vers la page B. \n",
    "\n",
    "On considère un marcheur aléatoire qui commence sur un sommet du graphe tiré aléatoirement parmis tous les sommets. À chaque étape : \n",
    "- avec probabilité $p$, il se déplace sur un sommet aléatoirement (uniformément) parmi tous les **voisins** de ce sommet (sauf si ce sommet n'a pas de voisin, dans ce cas il se déplace sur un sommet parmi tous les sommets du graphe)\n",
    "- avec probabilité $1-p$, il se déplace sur un sommet aléatoirement (uniformément) parmi tous les sommets du graphe. \n",
    "\n",
    "\n",
    "Le \"rang\" d'une page est le temps moyen qu'un marcheur aléatoire passe sur une page. "
   ]
  },
  {
   "cell_type": "code",
   "execution_count": null,
   "metadata": {
    "collapsed": true
   },
   "outputs": [],
   "source": [
    "import numpy as np\n",
    "import matplotlib.pyplot as plt\n",
    "%matplotlib inline"
   ]
  },
  {
   "cell_type": "markdown",
   "metadata": {},
   "source": [
    "## Partie 1: Graphes aléatoires\n",
    "\n",
    "On représentera les graphes par une liste de liste de voisin. Par exemple, la structure de donnée [[1,2],[0],[0]] représente un graphe dans lequel la page \"0\" pointe vers 2 pages (\"1\" et \"2\") tandis que les pages 1 et 2 pointent vers la page \"0\". \n",
    "\n",
    "### Question 1 \n",
    "Écrire un programme prenant en entrée deux paramètres $N$ (un entier) et $q\\in[0,1]$ et qui rend un graphe à $N$ sommet dans lequel une page $i$ pointe vers une page $j$ avec probabilité $q$. "
   ]
  },
  {
   "cell_type": "code",
   "execution_count": null,
   "metadata": {},
   "outputs": [],
   "source": [
    "def GrapheN(N,q):\n",
    "    T = []\n",
    "    for i in range(0,N):\n",
    "        Link = []\n",
    "        for j in range(0,N):\n",
    "            if (np.random.rand()<= q):\n",
    "                Link.append(j)\n",
    "        T.append(Link)\n",
    "    return T               \n",
    "\n",
    "print(GrapheN(3,0.5))"
   ]
  },
  {
   "cell_type": "markdown",
   "metadata": {},
   "source": [
    "### Question 2\n",
    "On fixe $N=1000$. En utilisant une simulation, tracer en fonction de $q$ la probabilité que le graphe soit complètement connecté (et commentez vos résultats)"
   ]
  },
  {
   "cell_type": "code",
   "execution_count": null,
   "metadata": {},
   "outputs": [],
   "source": [
    "def transpose(G):\n",
    "    N = len(G)\n",
    "    Gtranspose = [[] for i in range(N)]\n",
    "    for i in range(N):\n",
    "        for j in G[i]:\n",
    "            Gtranspose[j].append(i)\n",
    "    return Gtranspose\n",
    "\n",
    "\n",
    "def GrapheConnecRec(Sommet_accedes,G,i):\n",
    "    Liste_sommetsuiv = []\n",
    "    for j in G[i]:\n",
    "        if (Sommet_accedes[j] == 0) :\n",
    "            Liste_sommetsuiv.append(j)\n",
    "    if (Liste_sommetsuiv == []):\n",
    "        Tous_marque = True\n",
    "        j = 0\n",
    "        while(j<len(Sommet_accedes) and Tous_marque):\n",
    "            if (Sommet_accedes[j] == 0):\n",
    "                Tous_marque = False\n",
    "            j += 1\n",
    "        return Tous_marque\n",
    "    else :\n",
    "        Sommet_accedes[Liste_sommetsuiv[0]] = 1\n",
    "        GrapheConnecRec(Sommet_accedes,G,Liste_sommetsuiv[0])\n",
    "         \n",
    "        \n",
    "def GrapheConnec(G,N):\n",
    "    Sommet_accedes = [0]*N\n",
    "    i = np.random.randint(0,N)\n",
    "    Gtranpose = transpose(G)\n",
    "    return (GrapheConnecRec(Sommet_accedes,G,i) and GrapheConnecRec(Sommet_accedes,Gtranspose,i))"
   ]
  },
  {
   "cell_type": "code",
   "execution_count": null,
   "metadata": {},
   "outputs": [],
   "source": [
    "def simulator(N):\n",
    "    Tab_simulationY = []\n",
    "    Tab_simulationX = []\n",
    "\n",
    "    for j in range(1,10):\n",
    "        q = j/10\n",
    "        print(q)\n",
    "        cpt_true = 0\n",
    "        for i in range(0,1001):\n",
    "            G = GrapheN(N,q)\n",
    "            if GrapheConnec(G,N):\n",
    "                cpt_true += 1\n",
    "        Tab_simulationY.append(cpt_true/1000)\n",
    "        Tab_simulationX.append(q)\n",
    "        \n",
    "    plt.plot(Tab_simulationX)\n",
    "    \n",
    "\n",
    "simulator(1000)"
   ]
  },
  {
   "cell_type": "markdown",
   "metadata": {},
   "source": [
    "## Partie 2 : Un peu de théorie \n",
    "\n",
    "### Question 3\n",
    "\n",
    "On note $X_t$ la position du marcheur après $n$ déplacements. Pourquoi $X$ est-elle une chaîne de Markov? Est-ce la chaîne $X$ a-t-elle toujours une unique mesure stationnaire? \n",
    "\n",
    "### Question 4 \n",
    "Exprimer $P(X_{t+1}=i)$ en fonctions des différents $P(X_t=j)$ pour $j\\in\\{1,\\dots,n\\}$. \n",
    "\n",
    "### Question 5\n",
    "On suppose que le graphe d'intéraction est un graphe symétrique connexe et que $p=0$. Exprimer la mesure stationnaire de la chaîne en fonction du degré des sommets. \n"
   ]
  },
  {
   "cell_type": "code",
   "execution_count": null,
   "metadata": {
    "collapsed": true
   },
   "outputs": [],
   "source": []
  },
  {
   "cell_type": "markdown",
   "metadata": {},
   "source": [
    "## Partie 3 : Résolution numérique et simulation \n",
    "\n",
    "### Question 6\n",
    "\n",
    "Implémenter un algorithme qui prend en entrée un graphe et calcule la mesure stationnaire de la chaîne (en utilisant l'équation de récurrence de la question 4). \n",
    "\n",
    "### Question 7 \n",
    "\n",
    "On considère un graphe aléatoire de taille $N=100$ et on fixe $p=0.05$. \n",
    "* Calculer le rang des pages. Voyez vous une corrélation entre le rang d'une page et son degré entrant et/ou sortant? \n",
    "* Ajouter quelques hubs (pages qui ont beaucoup de liens sortant) et autorités (pages qui ont beaucoup de liens entrant). Quelles pages sont classées le plus haut ?\n",
    "* Essayez d’accroître les rangs de certaines pages. Expliquez votre méthode et validez-la expérimentalement.\n",
    "* Essayez différentes valeurs pour le facteur d’amortissement $p$. Quel est le comportement de l’algorithme lorsque $p$ tend vers 0 ?\n",
    "\n",
    "\n",
    "### Question 8\n",
    "\n",
    "Implémenter un algorithme qui prend en entrée un graphe $G$, un temps $T$ et un paramètre $p\\in(0,1)$ qui simule un marcheur aléatoire qui suit l'algorithme de PageRank. Tracer la position du marcheur en fonction du temps et essayer de reproduire les résultats de la question 6. \n",
    "\n"
   ]
  },
  {
   "cell_type": "markdown",
   "metadata": {},
   "source": []
  },
  {
   "cell_type": "code",
   "execution_count": null,
   "metadata": {
    "collapsed": true
   },
   "outputs": [],
   "source": []
  },
  {
   "cell_type": "code",
   "execution_count": null,
   "metadata": {
    "collapsed": true
   },
   "outputs": [],
   "source": []
  },
  {
   "cell_type": "code",
   "execution_count": null,
   "metadata": {
    "collapsed": true
   },
   "outputs": [],
   "source": []
  },
  {
   "cell_type": "code",
   "execution_count": null,
   "metadata": {
    "collapsed": true
   },
   "outputs": [],
   "source": []
  },
  {
   "cell_type": "code",
   "execution_count": null,
   "metadata": {
    "collapsed": true
   },
   "outputs": [],
   "source": []
  },
  {
   "cell_type": "code",
   "execution_count": null,
   "metadata": {
    "collapsed": true
   },
   "outputs": [],
   "source": []
  }
 ],
 "metadata": {
  "kernelspec": {
   "display_name": "Python 2",
   "language": "python",
   "name": "python2"
  },
  "language_info": {
   "codemirror_mode": {
    "name": "ipython",
    "version": 2
   },
   "file_extension": ".py",
   "mimetype": "text/x-python",
   "name": "python",
   "nbconvert_exporter": "python",
   "pygments_lexer": "ipython2",
   "version": "2.7.14"
  }
 },
 "nbformat": 4,
 "nbformat_minor": 2
}
